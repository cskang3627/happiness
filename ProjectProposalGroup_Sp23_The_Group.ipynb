{
 "cells": [
  {
   "cell_type": "markdown",
   "metadata": {},
   "source": [
    "# COGS 108 - Final Project Proposal"
   ]
  },
  {
   "cell_type": "markdown",
   "metadata": {},
   "source": [
    "# Names\n",
    "\n",
    "- Chance Kang\n",
    "- Lobna Kebir\n",
    "- Brian Lu\n",
    "- Sia Sheth\n",
    "- Aaron Wixson"
   ]
  },
  {
   "cell_type": "markdown",
   "metadata": {},
   "source": [
    "# Research Question"
   ]
  },
  {
   "cell_type": "markdown",
   "metadata": {},
   "source": [
    "In a global context, out of the following economical factors related to people’s economic security (GDP, CPI, net income, employment, etc…), which one most strongly influences happiness? Here, happiness is defined by the [World Happiness Report](https://worldhappiness.report/about/), and they use factors such as social support, life expectancy at birth, freedom of choice, confidence in government, and perception of corruption to determine happiness. An in depth econometric analysis of the impact of money categories on happiness, building upon and updating current research.\n",
    "\n",
    "*Variables may be subjected to change (in process of exploring, considering more data!)*\n"
   ]
  },
  {
   "cell_type": "markdown",
   "metadata": {},
   "source": [
    "## Background and Prior Work"
   ]
  },
  {
   "attachments": {},
   "cell_type": "markdown",
   "metadata": {},
   "source": [
    "The pursuit of happiness is a fundamental human desire, and money is often seen as a means to achieve it. However, the association between financial wealth and happiness is far from straightforward. While conventional wisdom suggests that more money should lead to greater happiness, empirical studies have presented mixed findings. \n",
    "\n",
    " \n",
    "The past research[1](https://www.pnas.org/doi/10.1073/pnas.1011492107) on the relationship between income and experienced well-being suggested that happiness levels do not increase significantly beyond an annual income of \\$75,000. However, this finding was based on retrospective, dichotomous reports, which may not accurately capture actual emotional experiences. In contrast, a new study[2](https://www.pnas.org/doi/abs/10.1073/pnas.2016976118) analyzed over one million real-time reports of experienced well-being from a large sample in the United States. The findings revealed that experienced well-being rises linearly with log income, with an equally steep slope above \\$80,000 as below it. This suggests that higher incomes may still have the potential to improve people's day-to-day well-being, challenging the notion that a plateau has already been reached for many individuals in wealthy countries.\n",
    "\n",
    " \n",
    "Another study[3](https://www.ncbi.nlm.nih.gov/pmc/articles/PMC5728426) shows that income is consistently associated with lower levels of sadness but not necessarily higher levels of happiness. This suggests that income may specifically predict certain types of negative emotions, particularly internalizing ones like sadness and worry, while not significantly influencing externalizing or action-oriented emotions such as anger and frustration.\n",
    "\n",
    "In a previous iteration of this class, a group did an analysis[4](https://github.com/COGS108/FinalProjects-Fa21/blob/main/FinalProjectGroup012-Fa21.ipynb) on the influence strength of the different factors used by the World Happiness Report on the happiness score. Our group wanted to dig deeper into the relationship between money and happiness, focusing on financial factors and their correlation to happiness. We introduce factors directly related to people’s financial well-being, like the GDP and price of goods of a country, income, and employment. With these factors in mind, we want to investigate which one has the strongest correlation with happiness scores, as determined by the World Happiness Report.\n",
    "\n",
    "[1]: Kahneman, D., & Deaton, A. (n.d.). High income improves evaluation of life but not emotional well-being. PNAS., https://www.pnas.org/doi/10.1073/pnas.1011492107\n",
    "\n",
    "[2]: Killingsworth, M. A. (n.d.). Experienced well-being rises with income, even above $75,000 per year. PNAS., https://www.pnas.org/doi/10.1073/pnas.2016976118\n",
    "\n",
    "[3]:Hudson, N. W., Lucas, R. E., Donnellan, M. B., & Kushlev, K. (2016, November). Income reliably predicts daily sadness, but not happiness: A replication and extension of Kushlev, dunn, & lucas (2015). Social psychological and personality science., https://www.ncbi.nlm.nih.gov/pmc/articles/PMC5728426\n",
    "\n",
    "[4]:Gale, O., Hedayat, P., Ma, T., Sarwar, J., Zhu, M. (17 Jan 2022) COGS 108 - Final Project Proposal., Github.com. https://github.com/COGS108/FinalProjects-Fa21/blob/main/FinalProjectGroup012-Fa21.ipynb\n",
    "\n",
    "*Our project is an in depth econometric analysis of the impact of money categories on happiness, building upon and updating current research.*"
   ]
  },
  {
   "cell_type": "markdown",
   "metadata": {},
   "source": [
    "# Hypothesis\n"
   ]
  },
  {
   "cell_type": "markdown",
   "metadata": {},
   "source": [
    "\n",
    "We hypothesize that there will be a strong correlation between high income and a high level of happiness to a certain threshold. Since having a high income gives people the ability to live more freely without needing to worry much about basic needs such as shelter and food, we hypothesize that income will most strongly influence happiness. "
   ]
  },
  {
   "cell_type": "markdown",
   "metadata": {},
   "source": [
    "# Data"
   ]
  },
  {
   "cell_type": "markdown",
   "metadata": {},
   "source": [
    "Our ideal dataset(s) will include the following variables:\n",
    "* GDP of country \n",
    "* Price of goods (CPI)\n",
    "* Cost of living \n",
    "* Average Net income/salary\n",
    "* Average expendable money\n",
    "* Employment\n",
    "* Meritocracy \n",
    "* Access to market \n",
    "\n",
    "but may be subject to change, for our group’s knowledge regarding economics is not sufficient yet.\n",
    "The ideal dataset(s) will draw data from a large sample that accurately represents all income groups, include datas from ~2015 to 2022, every country that reports the above variables, and be organized by a bias-free organization with no missing or unusable data.\n",
    "\n",
    "Currently we have gathered the following real data sets that we plan on using within the project. While the data required for analysis is gettable it is not ideal as it is scattered across multiple sets that are not inherently cohesive with each other and thus require modification. Furthermore, as we continue to explore different variables that may impact the trajectory of our question we will find more relevant data sets to contribute to each variable. \n",
    "\n",
    "* World Happiness report (WHR): https://data.oecd.org/earnwage/average-wages.htm\n",
    "* World Econ Outlook Data: https://www.imf.org/en/Publications/WEO/weo-database/2023/April/download-entire-database\n",
    "* Income and emotional wellbeing: https://osf.io/qye4a/files/osfstorage/63db33b678a62302b999cff8"
   ]
  },
  {
   "cell_type": "markdown",
   "metadata": {},
   "source": [
    "# Ethics & Privacy"
   ]
  },
  {
   "cell_type": "markdown",
   "metadata": {},
   "source": [
    "In general we have prioritized choosing public sourced open data that has no direct personal link to participants and their sensitive data thus ensuring that privacy is protected. Moreover, we have thoroughly reviewed each dataset's term of use policies in order to assure no infringement issues occur within the project.\n",
    "\n",
    "There are potential biases in our dataset because data in the World Happiness Report only compares GDP, wherein a country's GDP per capita can be very high but the wealth is distributed unevenly thus not creating an accurate comparison of the entire population. For example, the World Happiness Report utilizes the Gallup world poll that has a relatively small sample size of 1000 participants per country which may provide an inaccurate representation. However we are following up with more research on their methods in order to understand how they weight the data. Furthermore, data relating to other financial factors share a similar bias, where the collection methods may not provide the most representative and accurate depiction of the population. Important outliers relating to people’s financial situations could possibly be left out due to sampling bias.\n",
    "\n",
    "To resolve the bias presented in the data we detected beforehand, we strive to create a more representative view of the populations we are working with by gathering data from multiple sources, and not using all the data presented by one source (ie. the World Happiness Report). \n",
    "\n",
    "As for the ethical concerns of our project, happiness is a subjective term that is hard to analyze objectively. In turn, finding a standardized measure for happiness could reinstate unrealistic expectations for people's happiness and disproportionately represent a country's happiness based on economic ideals which may not be aligning with their culture.\n",
    "\n"
   ]
  },
  {
   "cell_type": "markdown",
   "metadata": {},
   "source": [
    "# Team Expectations "
   ]
  },
  {
   "attachments": {},
   "cell_type": "markdown",
   "metadata": {},
   "source": [
    "* Splitting up the workload fairly and effectively\n",
    "* Allowing for creative freedom within the collaborative nature of the project \n",
    "* Being respectful of everyone's ideas and contributions \n",
    "* Creating an open and safe environment to ask questions and make mistakes \n",
    "* Discussing conflicts as a group and resolving them as soon as possible \n",
    "* Consistent and clear communication"
   ]
  },
  {
   "cell_type": "markdown",
   "metadata": {},
   "source": [
    "# Project Timeline Proposal"
   ]
  },
  {
   "attachments": {},
   "cell_type": "markdown",
   "metadata": {},
   "source": [
    "| Meeting Date  | Meeting Time| Completed Before Meeting  | Discuss at Meeting |\n",
    "|---|---|---|---|\n",
    "| 5/3  |  8 PM | Background research, gather dataset  | Complete Proposal | \n",
    "| 5/6  |  7 PM |  More background research | Discuss, search ideal datasets | \n",
    "| 5/13  | 7 PM  | Search for datasets  | Review, finalize on dataset; Discuss Wrangling and possible analytical approaches; Assign group members to lead each specific part   |\n",
    "| 5/20  | 7 PM  | Import & Wrangle Data ; EDA | Review/Edit wrangling/EDA; Discuss Analysis Plan   |\n",
    "| 5/27  | 7 PM  | Finalize wrangling/EDA; Begin Analysis | Discuss/edit Analysis; Complete project check-in |\n",
    "| 6/3  | 7 PM  | Complete analysis; Draft results/conclusion/discussion | Discuss/edit full project |\n",
    "| 6/10  | Anytime  | NA | Turn in Final Project & Group Project Surveys |"
   ]
  },
  {
   "cell_type": "code",
   "execution_count": null,
   "metadata": {},
   "outputs": [],
   "source": []
  }
 ],
 "metadata": {
  "kernelspec": {
   "display_name": "Python 3 (ipykernel)",
   "language": "python",
   "name": "python3"
  },
  "language_info": {
   "codemirror_mode": {
    "name": "ipython",
    "version": 3
   },
   "file_extension": ".py",
   "mimetype": "text/x-python",
   "name": "python",
   "nbconvert_exporter": "python",
   "pygments_lexer": "ipython3",
   "version": "3.11.1"
  }
 },
 "nbformat": 4,
 "nbformat_minor": 2
}
